{
 "cells": [
  {
   "cell_type": "code",
   "execution_count": 1,
   "metadata": {},
   "outputs": [
    {
     "name": "stderr",
     "output_type": "stream",
     "text": [
      "\u001b[32m2024-12-12 16:53:02.972\u001b[0m | \u001b[34m\u001b[1mDEBUG   \u001b[0m | \u001b[36mutils.aiutils\u001b[0m:\u001b[36mget_chatmodel\u001b[0m:\u001b[36m92\u001b[0m - \u001b[34m\u001b[1mUsing Azure...\u001b[0m\n",
      "\u001b[32m2024-12-12 16:53:03.608\u001b[0m | \u001b[34m\u001b[1mDEBUG   \u001b[0m | \u001b[36mutils.aiutils\u001b[0m:\u001b[36mget_chatmodel\u001b[0m:\u001b[36m92\u001b[0m - \u001b[34m\u001b[1mUsing Azure...\u001b[0m\n",
      "\u001b[32m2024-12-12 16:53:35.715\u001b[0m | \u001b[1mINFO    \u001b[0m | \u001b[36mchains.rag.graph\u001b[0m:\u001b[36mretrieve\u001b[0m:\u001b[36m55\u001b[0m - \u001b[1m---ABRUFEN---\u001b[0m\n",
      "\u001b[32m2024-12-12 16:53:53.808\u001b[0m | \u001b[34m\u001b[1mDEBUG   \u001b[0m | \u001b[36mutils.aiutils\u001b[0m:\u001b[36mget_embeddingsmodel\u001b[0m:\u001b[36m154\u001b[0m - \u001b[34m\u001b[1musing Azure text-embedding-3-large...\u001b[0m\n",
      "\u001b[32m2024-12-12 16:53:55.193\u001b[0m | \u001b[1mINFO    \u001b[0m | \u001b[36mchains.rag.graph\u001b[0m:\u001b[36mgenerate\u001b[0m:\u001b[36m70\u001b[0m - \u001b[1m---GENERIEREN---\u001b[0m\n"
     ]
    },
    {
     "data": {
      "text/plain": [
       "{'question': 'für was wird der Bohrer verwendet?',\n",
       " 'generation': 'Der Bohrer, insbesondere der im Kontext genannte Holzspiralbohrer mit einem Durchmesser von 5 mm, wird verwendet, um punktgenaue und ausrissfreie Bohrungen in verschiedenen Materialien zu erstellen. Er ist ideal für Reparatur- und Montagearbeiten, insbesondere im mobilen Einsatz. Dieser spezielle Bohrer eignet sich sowohl für Weichholz als auch für Hartholz sowie für beschichtete Plattenwerkstoffe. \\n\\nEin weiterer Vorteil des Bohrers ist der 1/4 Zoll Sechskantschaft, der einen schnellen und unkomplizierten Wechsel zwischen verschiedenen Werkzeugen wie Bohrer, Senker oder Schraub-Bit ermöglicht. Der Schneidstoff des Bohrers ist HSS (Hochgeschwindigkeitsstahl), was ihm eine hohe Schnittleistung und Langlebigkeit verleiht. Die Spirallänge beträgt 45 mm, während die gesamte Länge des Bohrers 85 mm beträgt. \\n\\nZusammenfassend lässt sich sagen, dass der Bohrer für präzise Bohrungen in Holz und ähnlichen Materialien konzipiert ist und sich durch seine Vielseitigkeit und Benutzerfreundlichkeit auszeichnet.',\n",
       " 'documents': [Document(id='e39b8157-804e-4826-88be-7431c86364c8', metadata={'page': 0, 'source': 'Holzbohrer.pdf', 'import_id': 35}, page_content='DatenblattTextFlow 12 Holzspiralbohrer-Bit, Bohrer-⌀: 5 mmBestelldatenBestellnummer 676315 5 GTIN 9002696265320 Artikelklasse 66 BBeschreibungAusführung:1/4 Zoll Sechskantschaft nach DIN 3126 C 6,3.Vorteil:Schneller, unkomplizierter Wechsel zwischen Bohrer, Senker oder Schraub Bit.Verwendung:Ideal für Reparatur- und Montagearbeiten im mobilen Einsatz.Für punktgenaue, ausrissfreie Bohrungen in Weichholz, Hartholz und beschichtetenPlattenwerkstoffen.Schneidstoff: HSSSpirallänge: 45 mmganze Länge: 85 mmTechnische Beschreibungganze Länge 85 mmSpirallänge 45 mmBohrer-⌀ 5 mmBit-Sechskantschaft E 6,3 Schneidstoff HSSProduktart Holzbohrer© Hoffmann GmbH Qualitätswerkzeuge 24.02.2021 22:35 1/1')],\n",
       " 'collection_name': 'robo_chat'}"
      ]
     },
     "execution_count": 1,
     "metadata": {},
     "output_type": "execute_result"
    }
   ],
   "source": [
    "from langfuse.callback import CallbackHandler\n",
    "from langchain_core.runnables.config import RunnableConfig\n",
    "from chains.rag.graph import graph as rag_graph\n",
    "from utils import AppSettings\n",
    "\n",
    "settings = AppSettings.AppSettings()\n",
    "\n",
    "\n",
    "langfuse_handler = CallbackHandler()\n",
    "config = None\n",
    "# Todo: This method is blocking. It is discouraged to use it in production code.\n",
    "try:\n",
    "    langfuse_handler.auth_check()\n",
    "    config = RunnableConfig(callbacks=[langfuse_handler])\n",
    "except Exception as e:\n",
    "    print(\n",
    "        \"Die Authentifizierung mit Langfuse ist fehlgeschlagen. Sind die env-Variablen LANGFUSE_PUBLIC_KEY, LANGFUSE_SECRET_KEY und LANGFUSE_HOST gesetzt?\"\n",
    "    )\n",
    "\n",
    "input = {\n",
    "    \"question\": \"für was wird der Bohrer verwendet?\",\n",
    "    \"generation\": \"\",\n",
    "    \"documents\": [],\n",
    "    \"collection_name\": \"robo_chat\"\n",
    "\n",
    "}\n",
    "my_graph = rag_graph.with_config(config)\n",
    "res = my_graph.invoke(input=input)\n",
    "res\n"
   ]
  }
 ],
 "metadata": {
  "kernelspec": {
   "display_name": ".venv",
   "language": "python",
   "name": "python3"
  },
  "language_info": {
   "codemirror_mode": {
    "name": "ipython",
    "version": 3
   },
   "file_extension": ".py",
   "mimetype": "text/x-python",
   "name": "python",
   "nbconvert_exporter": "python",
   "pygments_lexer": "ipython3",
   "version": "3.12.7"
  }
 },
 "nbformat": 4,
 "nbformat_minor": 2
}
