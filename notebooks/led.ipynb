{
 "cells": [
  {
   "cell_type": "markdown",
   "metadata": {},
   "source": [
    "# Nur auf Raspberry Pi: Blink"
   ]
  },
  {
   "cell_type": "code",
   "execution_count": null,
   "metadata": {},
   "outputs": [],
   "source": [
    "import time\n",
    "\n",
    "import platform\n",
    "\n",
    "print(platform.system())\n",
    "\n",
    "led_pin = 13\n",
    "wait_seconds = 1\n",
    "running = True\n",
    "\n",
    "if platform.system() == 'Linux':\n",
    "    import RPi.GPIO as GPIO\n",
    "    # GPIO.setmode(GPIO.BOARD)\n",
    "    GPIO.setmode(GPIO.BCM)\n",
    "    GPIO.setup(led_pin, GPIO.OUT)\n",
    "\n",
    "try:\n",
    "    while running:\n",
    "        print(\"LED an\")\n",
    "        if platform.system() == 'Linux':\n",
    "            GPIO.output(led_pin, True)\n",
    "        time.sleep(wait_seconds)\n",
    "\n",
    "        print(\"LED aus\")\n",
    "        if platform.system() == 'Linux':\n",
    "            GPIO.output(led_pin, False)\n",
    "        time.sleep(wait_seconds)\n",
    "except KeyboardInterrupt:\n",
    "    if platform.system() == 'Linux':\n",
    "        GPIO.cleanup()\n",
    "    running = False\n"
   ]
  },
  {
   "cell_type": "code",
   "execution_count": null,
   "metadata": {},
   "outputs": [],
   "source": [
    "! /bin/python -m pip install ipykernel -U --user --force-reinstall"
   ]
  }
 ],
 "metadata": {
  "kernelspec": {
   "display_name": "Python 3",
   "language": "python",
   "name": "python3"
  },
  "language_info": {
   "codemirror_mode": {
    "name": "ipython",
    "version": 3
   },
   "file_extension": ".py",
   "mimetype": "text/x-python",
   "name": "python",
   "nbconvert_exporter": "python",
   "pygments_lexer": "ipython3",
   "version": "3.11.2"
  }
 },
 "nbformat": 4,
 "nbformat_minor": 2
}
