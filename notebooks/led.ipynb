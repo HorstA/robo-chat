{
 "cells": [
  {
   "cell_type": "markdown",
   "metadata": {},
   "source": [
    "# Nur auf Raspberry Pi: Blink"
   ]
  },
  {
   "cell_type": "code",
   "execution_count": 3,
   "metadata": {},
   "outputs": [
    {
     "name": "stdout",
     "output_type": "stream",
     "text": [
      "Windows\n",
      "LED an\n",
      "LED aus\n",
      "LED an\n",
      "LED aus\n",
      "LED an\n",
      "LED aus\n"
     ]
    }
   ],
   "source": [
    "import time\n",
    "\n",
    "import platform\n",
    "\n",
    "print(platform.system())\n",
    "\n",
    "led_pin = 13\n",
    "wait_seconds = 1\n",
    "running = True\n",
    "\n",
    "if platform.system() == 'Linux':\n",
    "    import RPi.GPIO as GPIO\n",
    "    # GPIO.setmode(GPIO.BOARD)\n",
    "    GPIO.setmode(GPIO.BCM)\n",
    "    GPIO.setup(led_pin, GPIO.OUT)\n",
    "\n",
    "try:\n",
    "    while running:\n",
    "        print(\"LED an\")\n",
    "        if platform.system() == 'Linux':\n",
    "            GPIO.output(led_pin, True)\n",
    "        time.sleep(wait_seconds)\n",
    "\n",
    "        print(\"LED aus\")\n",
    "        if platform.system() == 'Linux':\n",
    "            GPIO.output(led_pin, False)\n",
    "        time.sleep(wait_seconds)\n",
    "except KeyboardInterrupt:\n",
    "    if platform.system() == 'Linux':\n",
    "        GPIO.cleanup()\n",
    "    running = False\n"
   ]
  }
 ],
 "metadata": {
  "kernelspec": {
   "display_name": ".venv",
   "language": "python",
   "name": "python3"
  },
  "language_info": {
   "codemirror_mode": {
    "name": "ipython",
    "version": 3
   },
   "file_extension": ".py",
   "mimetype": "text/x-python",
   "name": "python",
   "nbconvert_exporter": "python",
   "pygments_lexer": "ipython3",
   "version": "3.12.7"
  }
 },
 "nbformat": 4,
 "nbformat_minor": 2
}
