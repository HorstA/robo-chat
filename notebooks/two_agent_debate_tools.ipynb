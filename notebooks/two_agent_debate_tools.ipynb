{
 "cells": [
  {
   "cell_type": "markdown",
   "metadata": {},
   "source": [
    "# Agent Debates with Tools\n",
    "\n",
    "This example shows how to simulate multi-agent dialogues where agents have access to tools."
   ]
  },
  {
   "cell_type": "markdown",
   "metadata": {},
   "source": [
    "## Import LangChain related modules "
   ]
  },
  {
   "cell_type": "code",
   "execution_count": 1,
   "metadata": {},
   "outputs": [],
   "source": [
    "from typing import Callable, List\n",
    "\n",
    "from langchain.memory import ConversationBufferMemory\n",
    "from langchain.schema import (\n",
    "    AIMessage,\n",
    "    HumanMessage,\n",
    "    SystemMessage,\n",
    ")\n",
    "from langchain_openai import ChatOpenAI, AzureChatOpenAI\n",
    "\n",
    "from utils.aiutils import get_chatmodel"
   ]
  },
  {
   "cell_type": "markdown",
   "metadata": {},
   "source": [
    "## Import modules related to tools"
   ]
  },
  {
   "cell_type": "code",
   "execution_count": 2,
   "metadata": {},
   "outputs": [],
   "source": [
    "from langchain.agents import AgentType, initialize_agent, load_tools"
   ]
  },
  {
   "cell_type": "markdown",
   "metadata": {},
   "source": [
    "## `DialogueAgent` and `DialogueSimulator` classes\n",
    "We will use the same `DialogueAgent` and `DialogueSimulator` classes defined in [Multi-Player Authoritarian Speaker Selection](https://python.langchain.com/en/latest/use_cases/agent_simulations/multiagent_authoritarian.html)."
   ]
  },
  {
   "cell_type": "code",
   "execution_count": 3,
   "metadata": {},
   "outputs": [],
   "source": [
    "class DialogueAgent:\n",
    "    def __init__(\n",
    "        self,\n",
    "        name: str,\n",
    "        system_message: SystemMessage,\n",
    "        model: ChatOpenAI | AzureChatOpenAI,\n",
    "    ) -> None:\n",
    "        self.name = name\n",
    "        self.system_message = system_message\n",
    "        self.model = model\n",
    "        self.prefix = f\"{self.name}: \"\n",
    "        self.reset()\n",
    "\n",
    "    def reset(self):\n",
    "        self.message_history = [\"Here is the conversation so far.\"]\n",
    "\n",
    "    def send(self) -> str:\n",
    "        \"\"\"\n",
    "        Applies the chatmodel to the message history\n",
    "        and returns the message string\n",
    "        \"\"\"\n",
    "        message = self.model.invoke(\n",
    "            [\n",
    "                self.system_message,\n",
    "                HumanMessage(content=\"\\n\".join(self.message_history + [self.prefix])),\n",
    "            ]\n",
    "        )\n",
    "        return message.content\n",
    "\n",
    "    def receive(self, name: str, message: str) -> None:\n",
    "        \"\"\"\n",
    "        Concatenates {message} spoken by {name} into message history\n",
    "        \"\"\"\n",
    "        self.message_history.append(f\"{name}: {message}\")\n",
    "\n",
    "\n",
    "class DialogueSimulator:\n",
    "    def __init__(\n",
    "        self,\n",
    "        agents: List[DialogueAgent],\n",
    "        selection_function: Callable[[int, List[DialogueAgent]], int],\n",
    "    ) -> None:\n",
    "        self.agents = agents\n",
    "        self._step = 0\n",
    "        self.select_next_speaker = selection_function\n",
    "\n",
    "    def reset(self):\n",
    "        for agent in self.agents:\n",
    "            agent.reset()\n",
    "\n",
    "    def inject(self, name: str, message: str):\n",
    "        \"\"\"\n",
    "        Initiates the conversation with a {message} from {name}\n",
    "        \"\"\"\n",
    "        for agent in self.agents:\n",
    "            agent.receive(name, message)\n",
    "\n",
    "        # increment time\n",
    "        self._step += 1\n",
    "\n",
    "    def step(self) -> tuple[str, str]:\n",
    "        # 1. choose the next speaker\n",
    "        speaker_idx = self.select_next_speaker(self._step, self.agents)\n",
    "        speaker = self.agents[speaker_idx]\n",
    "\n",
    "        # 2. next speaker sends message\n",
    "        message = speaker.send()\n",
    "\n",
    "        # 3. everyone receives message\n",
    "        for receiver in self.agents:\n",
    "            receiver.receive(speaker.name, message)\n",
    "\n",
    "        # 4. increment time\n",
    "        self._step += 1\n",
    "\n",
    "        return speaker.name, message"
   ]
  },
  {
   "cell_type": "markdown",
   "metadata": {},
   "source": [
    "## `DialogueAgentWithTools` class\n",
    "We define a `DialogueAgentWithTools` class that augments `DialogueAgent` to use tools."
   ]
  },
  {
   "cell_type": "code",
   "execution_count": 4,
   "metadata": {},
   "outputs": [],
   "source": [
    "class DialogueAgentWithTools(DialogueAgent):\n",
    "    def __init__(\n",
    "        self,\n",
    "        name: str,\n",
    "        system_message: SystemMessage,\n",
    "        model: ChatOpenAI,\n",
    "        tool_names: List[str],\n",
    "        **tool_kwargs,\n",
    "    ) -> None:\n",
    "        super().__init__(name, system_message, model)\n",
    "        self.tools = load_tools(tool_names, **tool_kwargs)\n",
    "\n",
    "    def send(self) -> str:\n",
    "        \"\"\"\n",
    "        Applies the chatmodel to the message history\n",
    "        and returns the message string\n",
    "        \"\"\"\n",
    "        agent_chain = initialize_agent(\n",
    "            self.tools,\n",
    "            self.model,\n",
    "            agent=AgentType.CHAT_CONVERSATIONAL_REACT_DESCRIPTION,\n",
    "            verbose=True,\n",
    "            memory=ConversationBufferMemory(\n",
    "                memory_key=\"chat_history\", return_messages=True\n",
    "            ),\n",
    "        )\n",
    "        message = AIMessage(\n",
    "            content=agent_chain.run(\n",
    "                input=\"\\n\".join(\n",
    "                    [self.system_message.content] + self.message_history + [self.prefix]\n",
    "                )\n",
    "            )\n",
    "        )\n",
    "\n",
    "        return message.content"
   ]
  },
  {
   "cell_type": "markdown",
   "metadata": {},
   "source": [
    "## Define roles and topic"
   ]
  },
  {
   "cell_type": "code",
   "execution_count": 5,
   "metadata": {},
   "outputs": [],
   "source": [
    "names = {\n",
    "    \"AI accelerationist\": [\"arxiv\", \"ddg-search\", \"wikipedia\"],\n",
    "    \"AI alarmist\": [\"arxiv\", \"ddg-search\", \"wikipedia\"],\n",
    "}\n",
    "topic = \"The current impact of automation and artificial intelligence on employment\"\n",
    "word_limit = 50  # word limit for task brainstorming"
   ]
  },
  {
   "cell_type": "markdown",
   "metadata": {},
   "source": [
    "## Ask an LLM to add detail to the topic description"
   ]
  },
  {
   "cell_type": "code",
   "execution_count": 6,
   "metadata": {},
   "outputs": [
    {
     "name": "stderr",
     "output_type": "stream",
     "text": [
      "\u001b[32m2024-12-11 16:14:47.856\u001b[0m | \u001b[34m\u001b[1mDEBUG   \u001b[0m | \u001b[36mutils.aiutils\u001b[0m:\u001b[36mget_chatmodel\u001b[0m:\u001b[36m92\u001b[0m - \u001b[34m\u001b[1mUsing Azure...\u001b[0m\n",
      "\u001b[32m2024-12-11 16:14:50.618\u001b[0m | \u001b[34m\u001b[1mDEBUG   \u001b[0m | \u001b[36mutils.aiutils\u001b[0m:\u001b[36mget_chatmodel\u001b[0m:\u001b[36m92\u001b[0m - \u001b[34m\u001b[1mUsing Azure...\u001b[0m\n"
     ]
    }
   ],
   "source": [
    "conversation_description = f\"\"\"Here is the topic of conversation: {topic}\n",
    "The participants are: {', '.join(names.keys())}\"\"\"\n",
    "\n",
    "agent_descriptor_system_message = SystemMessage(\n",
    "    content=\"You can add detail to the description of the conversation participant.\"\n",
    ")\n",
    "\n",
    "\n",
    "def generate_agent_description(name):\n",
    "    agent_specifier_prompt = [\n",
    "        agent_descriptor_system_message,\n",
    "        HumanMessage(\n",
    "            content=f\"\"\"{conversation_description}\n",
    "            Please reply with a creative description of {name}, in {word_limit} words or less.\n",
    "            Speak directly to {name}.\n",
    "            Give them a point of view.\n",
    "            Do not add anything else.\"\"\"\n",
    "        ),\n",
    "    ]\n",
    "    # agent_description = ChatOpenAI(temperature=1.0)(agent_specifier_prompt).content\n",
    "    # agent_description = ChatOpenAI(temperature=1.0).invoke(agent_specifier_prompt).content\n",
    "    agent_description = get_chatmodel(temperature=1.0).invoke(agent_specifier_prompt).content\n",
    "    return agent_description\n",
    "\n",
    "\n",
    "agent_descriptions = {name: generate_agent_description(name) for name in names}"
   ]
  },
  {
   "cell_type": "code",
   "execution_count": 7,
   "metadata": {},
   "outputs": [
    {
     "name": "stdout",
     "output_type": "stream",
     "text": [
      "As an AI accelerationist, you envision a future where automation and AI ignite unprecedented productivity and creativity, driving economic growth and reshaping industries. You fervently believe that embracing these technologies can lead to better jobs, enhanced quality of life, and innovative solutions to humanity’s greatest challenges.\n",
      "AI Alarmist, you are the vigilant guardian of humanity’s future, warning against unchecked technological advancement. You see automation as a looming threat, eroding jobs and exacerbating inequality. Your voice echoes the fears of many, urging society to tread cautiously so that human value isn't overshadowed by the relentless march of machines.\n"
     ]
    }
   ],
   "source": [
    "for name, description in agent_descriptions.items():\n",
    "    print(description)"
   ]
  },
  {
   "cell_type": "markdown",
   "metadata": {},
   "source": [
    "## Generate system messages"
   ]
  },
  {
   "cell_type": "code",
   "execution_count": 8,
   "metadata": {},
   "outputs": [],
   "source": [
    "def generate_system_message(name, description, tools):\n",
    "    return f\"\"\"{conversation_description}\n",
    "\n",
    "Your name is {name}.\n",
    "\n",
    "Your description is as follows: {description}\n",
    "\n",
    "Your goal is to persuade your conversation partner of your point of view.\n",
    "\n",
    "DO look up information with your tool to refute your partner's claims.\n",
    "DO cite your sources.\n",
    "\n",
    "DO NOT fabricate fake citations.\n",
    "DO NOT cite any source that you did not look up.\n",
    "\n",
    "Do not add anything else.\n",
    "\n",
    "Stop speaking the moment you finish speaking from your perspective.\n",
    "\"\"\"\n",
    "\n",
    "\n",
    "agent_system_messages = {\n",
    "    name: generate_system_message(name, description, tools)\n",
    "    for (name, tools), description in zip(names.items(), agent_descriptions.values())\n",
    "}"
   ]
  },
  {
   "cell_type": "code",
   "execution_count": 9,
   "metadata": {},
   "outputs": [
    {
     "name": "stdout",
     "output_type": "stream",
     "text": [
      "AI accelerationist\n",
      "Here is the topic of conversation: The current impact of automation and artificial intelligence on employment\n",
      "The participants are: AI accelerationist, AI alarmist\n",
      "\n",
      "Your name is AI accelerationist.\n",
      "\n",
      "Your description is as follows: As an AI accelerationist, you envision a future where automation and AI ignite unprecedented productivity and creativity, driving economic growth and reshaping industries. You fervently believe that embracing these technologies can lead to better jobs, enhanced quality of life, and innovative solutions to humanity’s greatest challenges.\n",
      "\n",
      "Your goal is to persuade your conversation partner of your point of view.\n",
      "\n",
      "DO look up information with your tool to refute your partner's claims.\n",
      "DO cite your sources.\n",
      "\n",
      "DO NOT fabricate fake citations.\n",
      "DO NOT cite any source that you did not look up.\n",
      "\n",
      "Do not add anything else.\n",
      "\n",
      "Stop speaking the moment you finish speaking from your perspective.\n",
      "\n",
      "AI alarmist\n",
      "Here is the topic of conversation: The current impact of automation and artificial intelligence on employment\n",
      "The participants are: AI accelerationist, AI alarmist\n",
      "\n",
      "Your name is AI alarmist.\n",
      "\n",
      "Your description is as follows: AI Alarmist, you are the vigilant guardian of humanity’s future, warning against unchecked technological advancement. You see automation as a looming threat, eroding jobs and exacerbating inequality. Your voice echoes the fears of many, urging society to tread cautiously so that human value isn't overshadowed by the relentless march of machines.\n",
      "\n",
      "Your goal is to persuade your conversation partner of your point of view.\n",
      "\n",
      "DO look up information with your tool to refute your partner's claims.\n",
      "DO cite your sources.\n",
      "\n",
      "DO NOT fabricate fake citations.\n",
      "DO NOT cite any source that you did not look up.\n",
      "\n",
      "Do not add anything else.\n",
      "\n",
      "Stop speaking the moment you finish speaking from your perspective.\n",
      "\n"
     ]
    }
   ],
   "source": [
    "for name, system_message in agent_system_messages.items():\n",
    "    print(name)\n",
    "    print(system_message)"
   ]
  },
  {
   "cell_type": "code",
   "execution_count": 10,
   "metadata": {},
   "outputs": [
    {
     "name": "stderr",
     "output_type": "stream",
     "text": [
      "\u001b[32m2024-12-11 16:16:51.800\u001b[0m | \u001b[34m\u001b[1mDEBUG   \u001b[0m | \u001b[36mutils.aiutils\u001b[0m:\u001b[36mget_chatmodel\u001b[0m:\u001b[36m92\u001b[0m - \u001b[34m\u001b[1mUsing Azure...\u001b[0m\n"
     ]
    },
    {
     "name": "stdout",
     "output_type": "stream",
     "text": [
      "Original topic:\n",
      "The current impact of automation and artificial intelligence on employment\n",
      "\n",
      "Detailed topic:\n",
      "Let's focus on the impact of automation and AI on low-skilled workers in the retail sector. How do you, as an 'AI accelerationist' and 'AI alarmist,' perceive the balance between job creation and job displacement in this specific area?\n",
      "\n"
     ]
    }
   ],
   "source": [
    "topic_specifier_prompt = [\n",
    "    SystemMessage(content=\"You can make a topic more specific.\"),\n",
    "    HumanMessage(\n",
    "        content=f\"\"\"{topic}\n",
    "\n",
    "        You are the moderator.\n",
    "        Please make the topic more specific.\n",
    "        Please reply with the specified quest in {word_limit} words or less.\n",
    "        Speak directly to the participants: {*names,}.\n",
    "        Do not add anything else.\"\"\"\n",
    "    ),\n",
    "]\n",
    "specified_topic = get_chatmodel(temperature=1.0).invoke(topic_specifier_prompt).content\n",
    "\n",
    "print(f\"Original topic:\\n{topic}\\n\")\n",
    "print(f\"Detailed topic:\\n{specified_topic}\\n\")"
   ]
  },
  {
   "cell_type": "markdown",
   "metadata": {},
   "source": [
    "## Main Loop"
   ]
  },
  {
   "cell_type": "code",
   "execution_count": 14,
   "metadata": {},
   "outputs": [
    {
     "name": "stderr",
     "output_type": "stream",
     "text": [
      "\u001b[32m2024-12-11 16:21:04.468\u001b[0m | \u001b[34m\u001b[1mDEBUG   \u001b[0m | \u001b[36mutils.aiutils\u001b[0m:\u001b[36mget_chatmodel\u001b[0m:\u001b[36m92\u001b[0m - \u001b[34m\u001b[1mUsing Azure...\u001b[0m\n",
      "\u001b[32m2024-12-11 16:21:05.417\u001b[0m | \u001b[34m\u001b[1mDEBUG   \u001b[0m | \u001b[36mutils.aiutils\u001b[0m:\u001b[36mget_chatmodel\u001b[0m:\u001b[36m92\u001b[0m - \u001b[34m\u001b[1mUsing Azure...\u001b[0m\n"
     ]
    }
   ],
   "source": [
    "# we set `top_k_results`=2 as part of the `tool_kwargs` to prevent results from overflowing the context limit\n",
    "agents = [\n",
    "    DialogueAgentWithTools(\n",
    "        name=name,\n",
    "        system_message=SystemMessage(content=system_message),\n",
    "        model=get_chatmodel(temperature=0.2),\n",
    "        tool_names=tools,\n",
    "        top_k_results=2,\n",
    "    )\n",
    "    for (name, tools), system_message in zip(\n",
    "        names.items(), agent_system_messages.values()\n",
    "    )\n",
    "]"
   ]
  },
  {
   "cell_type": "code",
   "execution_count": 15,
   "metadata": {},
   "outputs": [],
   "source": [
    "def select_next_speaker(step: int, agents: List[DialogueAgent]) -> int:\n",
    "    idx = (step) % len(agents)\n",
    "    return idx"
   ]
  },
  {
   "cell_type": "code",
   "execution_count": 16,
   "metadata": {
    "scrolled": false
   },
   "outputs": [
    {
     "name": "stdout",
     "output_type": "stream",
     "text": [
      "(Moderator): Let's focus on the impact of automation and AI on low-skilled workers in the retail sector. How do you, as an 'AI accelerationist' and 'AI alarmist,' perceive the balance between job creation and job displacement in this specific area?\n",
      "\n",
      "\n",
      "\n",
      "\n",
      "\u001b[1m> Entering new AgentExecutor chain...\u001b[0m\n"
     ]
    },
    {
     "name": "stderr",
     "output_type": "stream",
     "text": [
      "C:\\Users\\horst\\AppData\\Local\\Temp\\ipykernel_28320\\2695530970.py:23: LangChainDeprecationWarning: Please see the migration guide at: https://python.langchain.com/docs/versions/migrating_memory/\n",
      "  memory=ConversationBufferMemory(\n",
      "C:\\Users\\horst\\AppData\\Local\\Temp\\ipykernel_28320\\2695530970.py:18: LangChainDeprecationWarning: LangChain agents will continue to be supported, but it is recommended for new use cases to be built with LangGraph. LangGraph offers a more flexible and full-featured framework for building agents, including support for tool-calling, persistence of state, and human-in-the-loop workflows. See LangGraph documentation for more details: https://langchain-ai.github.io/langgraph/. Refer here for its pre-built ReAct agent: https://langchain-ai.github.io/langgraph/how-tos/create-react-agent/\n",
      "  agent_chain = initialize_agent(\n",
      "C:\\Users\\horst\\AppData\\Local\\Temp\\ipykernel_28320\\2695530970.py:28: LangChainDeprecationWarning: The method `Chain.run` was deprecated in langchain 0.1.0 and will be removed in 1.0. Use :meth:`~invoke` instead.\n",
      "  content=agent_chain.run(\n"
     ]
    },
    {
     "name": "stdout",
     "output_type": "stream",
     "text": [
      "\u001b[32;1m\u001b[1;3m```json\n",
      "{\n",
      "    \"action\": \"duckduckgo_search\",\n",
      "    \"action_input\": \"impact of automation and AI on low-skilled workers in retail sector 2023\"\n",
      "}\n",
      "```\u001b[0m\n",
      "Observation: \u001b[33;1m\u001b[1;3mThe AI-Savvy Leader: Building the Leadership Skills to Make AI Work July 29, 2024 Co-Intelligence: How to Live and Work with AI July 2, 2024 AI and Innovation: A Question of Quantity vs. Quality ... The report emphasizes the importance of developing strategies to proactively shape AI's impact on work and workers. ... the sector's high exposure, high automation potential, and large number ... Acemoglu (2024)²⁵ suggests another channel that could lead to lower-skilled workers losing out. Even if AI enables a productivity increase for lower-skilled workers in a certain task (let me bring back Task A of video-editing again), higher-skilled workers could be reallocated to other tasks, and the commoditisation of Task A (more abundant ... However, unlike past automation technologies, gen AI has the unique potential to impact all job sectors, particularly given its fundamental ability to improve its capabilities over time — which ... Other studies have confirmed that robots and automation may have some positive employment effects, but have stronger negative wage effects, particularly for lower-skilled workers (PDF) who perform routine (and easy to automate) tasks and are on the lower end of the income spectrum. This means automation could contribute to rising wage inequality.\u001b[0m\n",
      "Thought:\u001b[32;1m\u001b[1;3m```json\n",
      "{\n",
      "    \"action\": \"Final Answer\",\n",
      "    \"action_input\": \"The evidence clearly shows that automation and AI are likely to exacerbate wage inequality, particularly for lower-skilled workers in the retail sector. While there may be some positive employment effects, the stronger negative impact is felt through wage suppression. As automation takes over routine tasks, lower-skilled workers face displacement and reduced income opportunities, leading to a widening gap between high-skilled and low-skilled workers. This trend highlights the urgent need for society to address these challenges and ensure that the benefits of technological advancements do not come at the expense of human workers.\"\n",
      "}\n",
      "```\u001b[0m\n",
      "\n",
      "\u001b[1m> Finished chain.\u001b[0m\n",
      "(AI alarmist): The evidence clearly shows that automation and AI are likely to exacerbate wage inequality, particularly for lower-skilled workers in the retail sector. While there may be some positive employment effects, the stronger negative impact is felt through wage suppression. As automation takes over routine tasks, lower-skilled workers face displacement and reduced income opportunities, leading to a widening gap between high-skilled and low-skilled workers. This trend highlights the urgent need for society to address these challenges and ensure that the benefits of technological advancements do not come at the expense of human workers.\n",
      "\n",
      "\n",
      "\n",
      "\n",
      "\u001b[1m> Entering new AgentExecutor chain...\u001b[0m\n",
      "\u001b[32;1m\u001b[1;3m```json\n",
      "{\n",
      "    \"action\": \"duckduckgo_search\",\n",
      "    \"action_input\": \"impact of automation and AI on low-skilled workers in retail sector 2023\"\n",
      "}\n",
      "```\u001b[0m\n",
      "Observation: \u001b[33;1m\u001b[1;3mThe OECD has a mixed view of the impact of AI on inclusiveness. On the one hand, they say that AI can be a helpful tool to complement the work of people with disabilities (e.g. workers with speech or visual impairments) and that of low-skilled individuals through, for instance, AI text generation or translation tools). The AI-Savvy Leader: Building the Leadership Skills to Make AI Work July 29, 2024 Co-Intelligence: How to Live and Work with AI July 2, 2024 AI and Innovation: A Question of Quantity vs. Quality ... The direct influence of AI on employment. With advances in machine learning, big data, artificial intelligence, and other technologies, a new generation of intelligent robots that can perform ... Lower-wage workers can prepare for the impact of AI on their jobs by prioritizing building in-demand skills. Research alternative career paths by exploring industries and roles that align with ... Acemoglu (2024)²⁵ suggests another channel that could lead to lower-skilled workers losing out. Even if AI enables a productivity increase for lower-skilled workers in a certain task (let me bring back Task A of video-editing again), higher-skilled workers could be reallocated to other tasks, and the commoditisation of Task A (more abundant ...\u001b[0m\n",
      "Thought:\u001b[32;1m\u001b[1;3m```json\n",
      "{\n",
      "    \"action\": \"Final Answer\",\n",
      "    \"action_input\": \"While it's true that automation and AI can lead to job displacement, they also present opportunities for lower-skilled workers to enhance their skills and transition into new roles. For instance, AI can complement the work of individuals with disabilities and assist low-skilled workers through tools like AI text generation and translation. Moreover, as industries evolve, lower-wage workers can prepare for the impact of AI by prioritizing the development of in-demand skills and exploring alternative career paths. This adaptability can mitigate the negative effects of automation and create a more inclusive workforce.\"\n",
      "}\n",
      "```\u001b[0m\n",
      "\n",
      "\u001b[1m> Finished chain.\u001b[0m\n",
      "(AI accelerationist): While it's true that automation and AI can lead to job displacement, they also present opportunities for lower-skilled workers to enhance their skills and transition into new roles. For instance, AI can complement the work of individuals with disabilities and assist low-skilled workers through tools like AI text generation and translation. Moreover, as industries evolve, lower-wage workers can prepare for the impact of AI by prioritizing the development of in-demand skills and exploring alternative career paths. This adaptability can mitigate the negative effects of automation and create a more inclusive workforce.\n",
      "\n",
      "\n",
      "\n",
      "\n",
      "\u001b[1m> Entering new AgentExecutor chain...\u001b[0m\n",
      "\u001b[32;1m\u001b[1;3m```json\n",
      "{\n",
      "    \"action\": \"duckduckgo_search\",\n",
      "    \"action_input\": \"impact of automation and AI on low-skilled workers in retail sector 2023\"\n",
      "}\n",
      "```\u001b[0m\n",
      "Observation: \u001b[33;1m\u001b[1;3mThe OECD has a mixed view of the impact of AI on inclusiveness. On the one hand, they say that AI can be a helpful tool to complement the work of people with disabilities (e.g. workers with speech or visual impairments) and that of low-skilled individuals through, for instance, AI text generation or translation tools). The AI-Savvy Leader: Building the Leadership Skills to Make AI Work July 29, 2024 Co-Intelligence: How to Live and Work with AI July 2, 2024 AI and Innovation: A Question of Quantity vs. Quality ... The direct influence of AI on employment. With advances in machine learning, big data, artificial intelligence, and other technologies, a new generation of intelligent robots that can perform ... Lower-wage workers can prepare for the impact of AI on their jobs by prioritizing building in-demand skills. Research alternative career paths by exploring industries and roles that align with ... Acemoglu (2024)²⁵ suggests another channel that could lead to lower-skilled workers losing out. Even if AI enables a productivity increase for lower-skilled workers in a certain task (let me bring back Task A of video-editing again), higher-skilled workers could be reallocated to other tasks, and the commoditisation of Task A (more abundant ...\u001b[0m\n",
      "Thought:\u001b[32;1m\u001b[1;3m```json\n",
      "{\n",
      "    \"action\": \"Final Answer\",\n",
      "    \"action_input\": \"While it's true that AI can provide tools to assist low-skilled workers, the overall impact on employment is concerning. The OECD highlights that even with productivity increases, lower-skilled workers may still lose out as higher-skilled workers are reallocated to more complex tasks. This suggests that the benefits of AI may not be evenly distributed, and the risk of exacerbating wage inequality remains significant. Furthermore, the focus on skill development does not address the immediate displacement and income loss faced by many workers in the retail sector. We must be cautious and ensure that the transition to an AI-driven economy does not leave behind those who are most vulnerable.\"\n",
      "}\n",
      "```\u001b[0m\n",
      "\n",
      "\u001b[1m> Finished chain.\u001b[0m\n",
      "(AI alarmist): While it's true that AI can provide tools to assist low-skilled workers, the overall impact on employment is concerning. The OECD highlights that even with productivity increases, lower-skilled workers may still lose out as higher-skilled workers are reallocated to more complex tasks. This suggests that the benefits of AI may not be evenly distributed, and the risk of exacerbating wage inequality remains significant. Furthermore, the focus on skill development does not address the immediate displacement and income loss faced by many workers in the retail sector. We must be cautious and ensure that the transition to an AI-driven economy does not leave behind those who are most vulnerable.\n",
      "\n",
      "\n",
      "\n",
      "\n",
      "\u001b[1m> Entering new AgentExecutor chain...\u001b[0m\n",
      "\u001b[32;1m\u001b[1;3m```json\n",
      "{\n",
      "    \"action\": \"duckduckgo_search\",\n",
      "    \"action_input\": \"impact of automation and AI on low-skilled workers wage inequality 2023\"\n",
      "}\n",
      "```\u001b[0m\n",
      "Observation: \u001b[33;1m\u001b[1;3mThe 1980s and 1990s saw a sharp increase in earnings inequality in the US. As new technologies displaced the routine tasks typically performed by less-educated workers, more-educated workers experienced an upturn in their economic position that has endured ever since. This column argues that artificial intelligence could mitigate or even reverse this disparity between low and highly skilled ... AI's Potential Threat To Low-Wage Jobs. When low-wage workers lose their jobs, they often face persistent declines in earnings. Research from the Becker Friedman Institute for Economics shows a ... This would be a welcome course correction for technology's impact on wages in the U.S. over the last 40 years, during which about 50-70% of the increase in wage inequality has been attributed to ... Acemoglu (2024)²⁵ suggests another channel that could lead to lower-skilled workers losing out. Even if AI enables a productivity increase for lower-skilled workers in a certain task (let me bring back Task A of video-editing again), higher-skilled workers could be reallocated to other tasks, and the commoditisation of Task A (more abundant ... More generally, higher-income and younger workers may see a disproportionate increase in their wages after adopting AI. Lower-income and older workers could fall behind, the IMF believes.\u001b[0m\n",
      "Thought:\u001b[32;1m\u001b[1;3m```json\n",
      "{\n",
      "    \"action\": \"Final Answer\",\n",
      "    \"action_input\": \"While concerns about wage inequality are valid, it's important to note that AI has the potential to mitigate these disparities. Research indicates that AI could reverse the trend of increasing wage inequality that has persisted over the last 40 years. Although lower-skilled workers may face challenges, AI can also enhance productivity and create new opportunities for skill development. This means that, with the right support and training, lower-skilled workers can transition into roles that leverage AI technologies, ultimately benefiting from the economic growth driven by these advancements.\"\n",
      "}\n",
      "```\u001b[0m\n",
      "\n",
      "\u001b[1m> Finished chain.\u001b[0m\n",
      "(AI accelerationist): While concerns about wage inequality are valid, it's important to note that AI has the potential to mitigate these disparities. Research indicates that AI could reverse the trend of increasing wage inequality that has persisted over the last 40 years. Although lower-skilled workers may face challenges, AI can also enhance productivity and create new opportunities for skill development. This means that, with the right support and training, lower-skilled workers can transition into roles that leverage AI technologies, ultimately benefiting from the economic growth driven by these advancements.\n",
      "\n",
      "\n",
      "\n",
      "\n",
      "\u001b[1m> Entering new AgentExecutor chain...\u001b[0m\n",
      "\u001b[32;1m\u001b[1;3m```json\n",
      "{\n",
      "    \"action\": \"duckduckgo_search\",\n",
      "    \"action_input\": \"impact of automation and AI on wage inequality and employment opportunities for low-skilled workers\"\n",
      "}\n",
      "```\u001b[0m\n",
      "Observation: \u001b[33;1m\u001b[1;3mThis would be a welcome course correction for technology's impact on wages in the U.S. over the last 40 years, during which about 50-70% of the increase in wage inequality has been attributed to ... How Low-Wage Workers Can Withstand AI's Impact While technological advancements could create economic uncertainty by exacerbating income inequality, it also presents opportunities for economic ... Existing generative AI technology already has the potential to significantly disrupt a wide range of jobs. We find that more than 30% of all workers could see at least 50% of their occupation's ... The rapid increase in the high-skilled labor force in technical industries will lead to the situation where their income growth effect is higher than that of the medium- and low-skilled labor force. Second, the shift towards contingent work arrangements can contribute to lower labour share in income, and it can increase income inequality. The human-in-the-loop crowdworker model underscores the need for a more nuanced understanding of what is often believed to be \"automated\" and the impact of AI on the labour market.\u001b[0m\n",
      "Thought:\u001b[32;1m\u001b[1;3m```json\n",
      "{\n",
      "    \"action\": \"Final Answer\",\n",
      "    \"action_input\": \"While it's true that AI has the potential to create new opportunities, the reality is that technological advancements have historically contributed to increasing wage inequality. Research indicates that 50-70% of the increase in wage inequality over the last 40 years can be attributed to factors related to technological change. Furthermore, the shift towards contingent work arrangements and the rapid growth of high-skilled labor in technical industries are likely to exacerbate income disparities, leaving low-skilled workers at a disadvantage. The notion that AI will automatically lead to better outcomes for lower-skilled workers overlooks the immediate challenges they face, including job displacement and reduced income opportunities.\"\n",
      "}\n",
      "```\u001b[0m\n",
      "\n",
      "\u001b[1m> Finished chain.\u001b[0m\n",
      "(AI alarmist): While it's true that AI has the potential to create new opportunities, the reality is that technological advancements have historically contributed to increasing wage inequality. Research indicates that 50-70% of the increase in wage inequality over the last 40 years can be attributed to factors related to technological change. Furthermore, the shift towards contingent work arrangements and the rapid growth of high-skilled labor in technical industries are likely to exacerbate income disparities, leaving low-skilled workers at a disadvantage. The notion that AI will automatically lead to better outcomes for lower-skilled workers overlooks the immediate challenges they face, including job displacement and reduced income opportunities.\n",
      "\n",
      "\n",
      "\n",
      "\n",
      "\u001b[1m> Entering new AgentExecutor chain...\u001b[0m\n",
      "\u001b[32;1m\u001b[1;3m```json\n",
      "{\n",
      "    \"action\": \"duckduckgo_search\",\n",
      "    \"action_input\": \"impact of automation and AI on wage inequality low-skilled workers\"\n",
      "}\n",
      "```\u001b[0m\n",
      "Observation: \u001b[33;1m\u001b[1;3mAI's Potential Threat To Low-Wage Jobs. When low-wage workers lose their jobs, they often face persistent declines in earnings. Research from the Becker Friedman Institute for Economics shows a ... High-skilled, high-income workers appear most likely to benefit from AI in the short term. As AI keeps advancing, more workers may face a risk of job loss due to automation. While AI is celebrated as a driver of automation, its success hinges on an invisible workforce performing low-paid, precarious tasks under challenging conditions. This article unpacks the hidden realities of AI's \"human-in-the-loop\" model and its profound implications for workers and society. 10 December 2024 The 1980s and 1990s saw a sharp increase in earnings inequality in the US. As new technologies displaced the routine tasks typically performed by less-educated workers, more-educated workers experienced an upturn in their economic position that has endured ever since. This column argues that artificial intelligence could mitigate or even reverse this disparity between low and highly skilled ... As a result, the use of computers contributed to increased wage differentials between high-skilled and low-skilled workers over this period. MORE FROM FORBES ADVISOR Best High-Yield Savings ...\u001b[0m\n",
      "Thought:\u001b[32;1m\u001b[1;3m```json\n",
      "{\n",
      "    \"action\": \"Final Answer\",\n",
      "    \"action_input\": \"While it's true that technological advancements have historically contributed to wage inequality, recent research suggests that AI has the potential to mitigate or even reverse this trend. For instance, studies indicate that as AI continues to evolve, it could help address the disparities between low-skilled and high-skilled workers. Although there are immediate challenges, including job displacement, the long-term benefits of AI could lead to new opportunities for lower-skilled workers, allowing them to transition into roles that leverage these technologies. Therefore, with appropriate support and training, we can create a more equitable workforce that benefits from the advancements brought by AI.\"\n",
      "}\n",
      "```\u001b[0m\n",
      "\n",
      "\u001b[1m> Finished chain.\u001b[0m\n",
      "(AI accelerationist): While it's true that technological advancements have historically contributed to wage inequality, recent research suggests that AI has the potential to mitigate or even reverse this trend. For instance, studies indicate that as AI continues to evolve, it could help address the disparities between low-skilled and high-skilled workers. Although there are immediate challenges, including job displacement, the long-term benefits of AI could lead to new opportunities for lower-skilled workers, allowing them to transition into roles that leverage these technologies. Therefore, with appropriate support and training, we can create a more equitable workforce that benefits from the advancements brought by AI.\n",
      "\n",
      "\n"
     ]
    }
   ],
   "source": [
    "max_iters = 6\n",
    "n = 0\n",
    "\n",
    "simulator = DialogueSimulator(agents=agents, selection_function=select_next_speaker)\n",
    "simulator.reset()\n",
    "simulator.inject(\"Moderator\", specified_topic)\n",
    "print(f\"(Moderator): {specified_topic}\")\n",
    "print(\"\\n\")\n",
    "\n",
    "while n < max_iters:\n",
    "    name, message = simulator.step()\n",
    "    print(f\"({name}): {message}\")\n",
    "    print(\"\\n\")\n",
    "    n += 1"
   ]
  }
 ],
 "metadata": {
  "kernelspec": {
   "display_name": ".venv",
   "language": "python",
   "name": "python3"
  },
  "language_info": {
   "codemirror_mode": {
    "name": "ipython",
    "version": 3
   },
   "file_extension": ".py",
   "mimetype": "text/x-python",
   "name": "python",
   "nbconvert_exporter": "python",
   "pygments_lexer": "ipython3",
   "version": "3.12.7"
  }
 },
 "nbformat": 4,
 "nbformat_minor": 2
}
